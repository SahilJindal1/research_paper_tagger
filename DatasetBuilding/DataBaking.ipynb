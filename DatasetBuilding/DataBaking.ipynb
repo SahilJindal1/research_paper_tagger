{
 "cells": [
  {
   "cell_type": "code",
   "execution_count": 1,
   "id": "09e963e3",
   "metadata": {},
   "outputs": [],
   "source": [
    "import pickle\n",
    "import json\n",
    "import random\n",
    "\n",
    "random.seed(10)"
   ]
  },
  {
   "cell_type": "code",
   "execution_count": 2,
   "id": "342f777f",
   "metadata": {},
   "outputs": [],
   "source": [
    "f = open(\"2019/2019.json\", \"r\")\n",
    "data_2019 = json.load(f)\n",
    "f.close()\n",
    "\n",
    "f = open(\"2020/2020.json\", \"r\")\n",
    "data_2020 = json.load(f)\n",
    "f.close()\n",
    "\n",
    "f = open(\"2021/2021.json\", \"r\")\n",
    "data_2021 = json.load(f)\n",
    "f.close()"
   ]
  },
  {
   "cell_type": "code",
   "execution_count": 3,
   "id": "583480cc",
   "metadata": {},
   "outputs": [
    {
     "data": {
      "text/plain": [
       "dict_keys(['dialogue and interactive systems', 'sentence-level semantics', 'tagging, chunking, syntax and parsing', 'machine translation', 'information extraction and text mining', 'machine learning', 'textual inference and other areas of semantics', 'applications', 'sentiment analysis and argument mining', 'summarization', 'document analysis', 'bias in language processing', 'word-level semantics', 'multilinguality and morphology', 'vision, robotics, multimodal, grounding and speech', 'dialogue and generation', 'question answering', 'evaluation', 'social media', 'generation', 'semantics', 'visual and multimodal question answering', 'multidisciplinary', 'discourse and pragmatics', 'multilinguality', 'linguistic theories, cognitive modeling and psycholinguistics', 'resources and evaluation', 'phonology, morphology andword segmentation'])"
      ]
     },
     "execution_count": 3,
     "metadata": {},
     "output_type": "execute_result"
    }
   ],
   "source": [
    "data_2019.keys()"
   ]
  },
  {
   "cell_type": "code",
   "execution_count": 4,
   "id": "ced9396b",
   "metadata": {},
   "outputs": [
    {
     "data": {
      "text/plain": [
       "dict_keys(['cognitive modeling and psycholinguistics', 'dialogue and interactive systems', 'discourse and pragmatics', 'generation', 'information retrieval and text mining', 'machine translation', 'theory and formalism in nlp (linguistic and mathematical)', 'computational social science and social media', 'nlp applications', 'question answering', 'resources and evaluation', 'semantics: lexical', 'phonology, morphology andword segmentation', 'semantics: sentence level', 'summarization', 'information extraction', 'machine learning for nlp', 'semantics: textual inference and other areas of semantics', 'speech and multimodality', 'language grounding to vision, robotics and beyond', 'ethics and nlp', 'sentiment analysis, stylistic analysis, and argument mining', 'syntax: tagging, chunking and parsing', 'interpretability and analysis of models for nlp'])"
      ]
     },
     "execution_count": 4,
     "metadata": {},
     "output_type": "execute_result"
    }
   ],
   "source": [
    "data_2020.keys()"
   ]
  },
  {
   "cell_type": "code",
   "execution_count": 5,
   "id": "513e3c37",
   "metadata": {},
   "outputs": [
    {
     "data": {
      "text/plain": [
       "dict_keys(['computational social science and cultural analytics', 'language generation', 'dialog and interactive systems', 'information extraction', 'machine translation and multilinguality', 'sentiment analysis, stylistic analysis, and argument mining', 'summarization', 'interpretability and analysis of models for nlp', 'language grounding to vision, robotics and beyond', 'machine learning for nlp', 'ethics in nlp', 'nlp applications', 'resources and evaluation', 'semantics: sentence-level semantics, textual inference and other areas', 'speech and multimodality', 'syntax: tagging, chunking, and parsing', 'question answering', 'phonology, morphology andword segmentation', 'semantics: lexical semantics', 'linguistic theories, cognitive modeling and psycholinguistics', 'information retrieval and text mining', 'discourse and pragmatics'])"
      ]
     },
     "execution_count": 5,
     "metadata": {},
     "output_type": "execute_result"
    }
   ],
   "source": [
    "data_2021.keys()"
   ]
  },
  {
   "cell_type": "code",
   "execution_count": 6,
   "id": "44960dfc",
   "metadata": {},
   "outputs": [],
   "source": [
    "full_data = dict()"
   ]
  },
  {
   "cell_type": "code",
   "execution_count": 7,
   "id": "c840a8ee",
   "metadata": {},
   "outputs": [],
   "source": [
    "full_data['dialogue and interactive systems'] = data_2019['dialogue and interactive systems'] + data_2020['dialogue and interactive systems'] + data_2021['dialog and interactive systems']"
   ]
  },
  {
   "cell_type": "code",
   "execution_count": 8,
   "id": "d1e82244",
   "metadata": {},
   "outputs": [
    {
     "data": {
      "text/plain": [
       "146"
      ]
     },
     "execution_count": 8,
     "metadata": {},
     "output_type": "execute_result"
    }
   ],
   "source": [
    "len(full_data['dialogue and interactive systems'])"
   ]
  },
  {
   "cell_type": "code",
   "execution_count": 9,
   "id": "3b8c139b",
   "metadata": {},
   "outputs": [],
   "source": [
    "full_data['semantics'] = data_2019['sentence-level semantics'] + data_2019['textual inference and other areas of semantics'] + data_2019['word-level semantics'] + data_2019['semantics'] + data_2020['semantics: sentence level'] + data_2020['semantics: textual inference and other areas of semantics'] + data_2020['semantics: lexical'] + data_2021['semantics: sentence-level semantics, textual inference and other areas'] + data_2021['semantics: lexical semantics']"
   ]
  },
  {
   "cell_type": "code",
   "execution_count": 10,
   "id": "a0ce36d6",
   "metadata": {},
   "outputs": [
    {
     "data": {
      "text/plain": [
       "167"
      ]
     },
     "execution_count": 10,
     "metadata": {},
     "output_type": "execute_result"
    }
   ],
   "source": [
    "len(full_data['semantics'])"
   ]
  },
  {
   "cell_type": "code",
   "execution_count": 11,
   "id": "426cfe4d",
   "metadata": {},
   "outputs": [],
   "source": [
    "full_data['tagging, chunking, syntax and parsing'] = data_2019['tagging, chunking, syntax and parsing'] + data_2020['syntax: tagging, chunking and parsing'] + data_2021['syntax: tagging, chunking, and parsing']"
   ]
  },
  {
   "cell_type": "code",
   "execution_count": 12,
   "id": "a169750f",
   "metadata": {},
   "outputs": [
    {
     "data": {
      "text/plain": [
       "51"
      ]
     },
     "execution_count": 12,
     "metadata": {},
     "output_type": "execute_result"
    }
   ],
   "source": [
    "len(full_data['tagging, chunking, syntax and parsing'])"
   ]
  },
  {
   "cell_type": "code",
   "execution_count": 13,
   "id": "d95e85d1",
   "metadata": {},
   "outputs": [],
   "source": [
    "full_data['machine translation and multilinguality'] = data_2019['machine translation'] + data_2019['multilinguality'] + data_2019['multilinguality and morphology'] + data_2020['machine translation'] + data_2021['machine translation and multilinguality']"
   ]
  },
  {
   "cell_type": "code",
   "execution_count": 14,
   "id": "25567b81",
   "metadata": {},
   "outputs": [
    {
     "data": {
      "text/plain": [
       "187"
      ]
     },
     "execution_count": 14,
     "metadata": {},
     "output_type": "execute_result"
    }
   ],
   "source": [
    "len(full_data['machine translation and multilinguality'])"
   ]
  },
  {
   "cell_type": "code",
   "execution_count": 15,
   "id": "3622f3e0",
   "metadata": {},
   "outputs": [],
   "source": [
    "full_data['information extraction, retrieval and text mining'] = data_2019['information extraction and text mining'] + data_2020['information retrieval and text mining'] + data_2020['information extraction'] + data_2021['information retrieval and text mining'] + data_2021['information extraction']"
   ]
  },
  {
   "cell_type": "code",
   "execution_count": 16,
   "id": "3f4135b2",
   "metadata": {},
   "outputs": [
    {
     "data": {
      "text/plain": [
       "171"
      ]
     },
     "execution_count": 16,
     "metadata": {},
     "output_type": "execute_result"
    }
   ],
   "source": [
    "len(full_data['information extraction, retrieval and text mining'])"
   ]
  },
  {
   "cell_type": "code",
   "execution_count": 17,
   "id": "854bfb4c",
   "metadata": {},
   "outputs": [],
   "source": [
    "full_data['machine learning for nlp'] = data_2019['machine learning'] + data_2020['machine learning for nlp'] + data_2021['machine learning for nlp']"
   ]
  },
  {
   "cell_type": "code",
   "execution_count": 18,
   "id": "9c84d464",
   "metadata": {},
   "outputs": [
    {
     "data": {
      "text/plain": [
       "166"
      ]
     },
     "execution_count": 18,
     "metadata": {},
     "output_type": "execute_result"
    }
   ],
   "source": [
    "len(full_data['machine learning for nlp'])"
   ]
  },
  {
   "cell_type": "code",
   "execution_count": 19,
   "id": "c10ff79c",
   "metadata": {},
   "outputs": [],
   "source": [
    "full_data['nlp applications'] = data_2019['applications'] + data_2020['nlp applications'] + data_2021['nlp applications']"
   ]
  },
  {
   "cell_type": "code",
   "execution_count": 20,
   "id": "2d4921ce",
   "metadata": {},
   "outputs": [
    {
     "data": {
      "text/plain": [
       "106"
      ]
     },
     "execution_count": 20,
     "metadata": {},
     "output_type": "execute_result"
    }
   ],
   "source": [
    "len(full_data['nlp applications'])"
   ]
  },
  {
   "cell_type": "code",
   "execution_count": 21,
   "id": "cb4857ad",
   "metadata": {},
   "outputs": [],
   "source": [
    "full_data['sentiment analysis, stylistic analysis, and argument mining'] = data_2019['sentiment analysis and argument mining'] + data_2020['sentiment analysis, stylistic analysis, and argument mining'] + data_2021['sentiment analysis, stylistic analysis, and argument mining']"
   ]
  },
  {
   "cell_type": "code",
   "execution_count": 22,
   "id": "20e89cf7",
   "metadata": {},
   "outputs": [
    {
     "data": {
      "text/plain": [
       "78"
      ]
     },
     "execution_count": 22,
     "metadata": {},
     "output_type": "execute_result"
    }
   ],
   "source": [
    "len(full_data['sentiment analysis, stylistic analysis, and argument mining'])"
   ]
  },
  {
   "cell_type": "code",
   "execution_count": 23,
   "id": "f5a47e33",
   "metadata": {},
   "outputs": [],
   "source": [
    "full_data['summarization'] = data_2019['summarization'] + data_2020['summarization'] + data_2021['summarization']"
   ]
  },
  {
   "cell_type": "code",
   "execution_count": null,
   "id": "9c1b2c91",
   "metadata": {},
   "outputs": [],
   "source": []
  },
  {
   "cell_type": "code",
   "execution_count": 24,
   "id": "bb8d5975",
   "metadata": {},
   "outputs": [
    {
     "data": {
      "text/plain": [
       "65"
      ]
     },
     "execution_count": 24,
     "metadata": {},
     "output_type": "execute_result"
    }
   ],
   "source": [
    "len(full_data['summarization'])"
   ]
  },
  {
   "cell_type": "code",
   "execution_count": 25,
   "id": "afa60b9f",
   "metadata": {},
   "outputs": [],
   "source": [
    "full_data['language grounding to vision, robotics and beyond'] = data_2019['vision, robotics, multimodal, grounding and speech'] + data_2020['language grounding to vision, robotics and beyond'] + data_2021['language grounding to vision, robotics and beyond']"
   ]
  },
  {
   "cell_type": "code",
   "execution_count": 26,
   "id": "3390a80a",
   "metadata": {},
   "outputs": [
    {
     "data": {
      "text/plain": [
       "56"
      ]
     },
     "execution_count": 26,
     "metadata": {},
     "output_type": "execute_result"
    }
   ],
   "source": [
    "len(full_data['language grounding to vision, robotics and beyond'])"
   ]
  },
  {
   "cell_type": "code",
   "execution_count": 27,
   "id": "04f8eecb",
   "metadata": {},
   "outputs": [],
   "source": [
    "full_data['generation'] = data_2019['dialogue and generation'] + data_2019['generation'] + data_2020['generation'] + data_2021['language generation']"
   ]
  },
  {
   "cell_type": "code",
   "execution_count": 28,
   "id": "6371b8ea",
   "metadata": {},
   "outputs": [
    {
     "data": {
      "text/plain": [
       "108"
      ]
     },
     "execution_count": 28,
     "metadata": {},
     "output_type": "execute_result"
    }
   ],
   "source": [
    "len(full_data['generation'])"
   ]
  },
  {
   "cell_type": "code",
   "execution_count": 29,
   "id": "4090ad56",
   "metadata": {},
   "outputs": [],
   "source": [
    "full_data['question answering'] = data_2019['question answering'] + data_2019['visual and multimodal question answering'] + data_2020['question answering'] + data_2021['question answering']"
   ]
  },
  {
   "cell_type": "code",
   "execution_count": 30,
   "id": "8b937510",
   "metadata": {},
   "outputs": [
    {
     "data": {
      "text/plain": [
       "100"
      ]
     },
     "execution_count": 30,
     "metadata": {},
     "output_type": "execute_result"
    }
   ],
   "source": [
    "len(full_data['question answering'])"
   ]
  },
  {
   "cell_type": "code",
   "execution_count": 31,
   "id": "1c1ad19e",
   "metadata": {},
   "outputs": [],
   "source": [
    "full_data['resources and evaluation'] = data_2019['evaluation'] + data_2019['resources and evaluation'] + data_2020['resources and evaluation'] + data_2021['resources and evaluation']"
   ]
  },
  {
   "cell_type": "code",
   "execution_count": 32,
   "id": "e94387e2",
   "metadata": {},
   "outputs": [
    {
     "data": {
      "text/plain": [
       "93"
      ]
     },
     "execution_count": 32,
     "metadata": {},
     "output_type": "execute_result"
    }
   ],
   "source": [
    "len(full_data['resources and evaluation'])"
   ]
  },
  {
   "cell_type": "code",
   "execution_count": 33,
   "id": "a13de14d",
   "metadata": {},
   "outputs": [],
   "source": [
    "full_data['computational social science, social media and cultural analytics'] = data_2019['social media'] + data_2020['computational social science and social media'] + data_2021['computational social science and cultural analytics']"
   ]
  },
  {
   "cell_type": "code",
   "execution_count": 34,
   "id": "bb19efbc",
   "metadata": {},
   "outputs": [
    {
     "data": {
      "text/plain": [
       "64"
      ]
     },
     "execution_count": 34,
     "metadata": {},
     "output_type": "execute_result"
    }
   ],
   "source": [
    "len(full_data['computational social science, social media and cultural analytics'])"
   ]
  },
  {
   "cell_type": "code",
   "execution_count": 35,
   "id": "71e304d6",
   "metadata": {},
   "outputs": [],
   "source": [
    "full_data['discourse and pragmatics'] = data_2019['discourse and pragmatics'] + data_2020['discourse and pragmatics'] + data_2021['discourse and pragmatics']"
   ]
  },
  {
   "cell_type": "code",
   "execution_count": 36,
   "id": "dac7dcdb",
   "metadata": {},
   "outputs": [
    {
     "data": {
      "text/plain": [
       "31"
      ]
     },
     "execution_count": 36,
     "metadata": {},
     "output_type": "execute_result"
    }
   ],
   "source": [
    "len(full_data['discourse and pragmatics'])"
   ]
  },
  {
   "cell_type": "code",
   "execution_count": 37,
   "id": "1f84a80b",
   "metadata": {},
   "outputs": [],
   "source": [
    "full_data['linguistic theories, cognitive modeling and psycholinguistics'] = data_2019['linguistic theories, cognitive modeling and psycholinguistics'] + data_2020['cognitive modeling and psycholinguistics'] + data_2021['linguistic theories, cognitive modeling and psycholinguistics']"
   ]
  },
  {
   "cell_type": "code",
   "execution_count": 38,
   "id": "7a691d45",
   "metadata": {},
   "outputs": [
    {
     "data": {
      "text/plain": [
       "39"
      ]
     },
     "execution_count": 38,
     "metadata": {},
     "output_type": "execute_result"
    }
   ],
   "source": [
    "len(full_data['linguistic theories, cognitive modeling and psycholinguistics'])"
   ]
  },
  {
   "cell_type": "code",
   "execution_count": 39,
   "id": "d5657e6c",
   "metadata": {},
   "outputs": [],
   "source": [
    "full_data['phonology, morphology and word segmentation'] = data_2019['phonology, morphology andword segmentation'] + data_2020['phonology, morphology andword segmentation'] + data_2021['phonology, morphology andword segmentation']"
   ]
  },
  {
   "cell_type": "code",
   "execution_count": 40,
   "id": "f4b24059",
   "metadata": {},
   "outputs": [
    {
     "data": {
      "text/plain": [
       "25"
      ]
     },
     "execution_count": 40,
     "metadata": {},
     "output_type": "execute_result"
    }
   ],
   "source": [
    "len(full_data['phonology, morphology and word segmentation'])"
   ]
  },
  {
   "cell_type": "code",
   "execution_count": 41,
   "id": "25e46b7d",
   "metadata": {},
   "outputs": [],
   "source": [
    "full_data['speech and multimodality'] = data_2020['speech and multimodality'] + data_2021['speech and multimodality']"
   ]
  },
  {
   "cell_type": "code",
   "execution_count": 42,
   "id": "af6d8823",
   "metadata": {},
   "outputs": [
    {
     "data": {
      "text/plain": [
       "22"
      ]
     },
     "execution_count": 42,
     "metadata": {},
     "output_type": "execute_result"
    }
   ],
   "source": [
    "len(full_data['speech and multimodality'])"
   ]
  },
  {
   "cell_type": "code",
   "execution_count": 43,
   "id": "47688247",
   "metadata": {},
   "outputs": [],
   "source": [
    "full_data['ethics in nlp'] = data_2020['ethics and nlp'] + data_2021['ethics in nlp']"
   ]
  },
  {
   "cell_type": "code",
   "execution_count": 44,
   "id": "81976c22",
   "metadata": {},
   "outputs": [
    {
     "data": {
      "text/plain": [
       "19"
      ]
     },
     "execution_count": 44,
     "metadata": {},
     "output_type": "execute_result"
    }
   ],
   "source": [
    "len(full_data['ethics in nlp'])"
   ]
  },
  {
   "cell_type": "code",
   "execution_count": 45,
   "id": "5f1dc680",
   "metadata": {},
   "outputs": [],
   "source": [
    "full_data['interpretability and analysis of models for nlp'] = data_2020['interpretability and analysis of models for nlp'] + data_2021['interpretability and analysis of models for nlp']"
   ]
  },
  {
   "cell_type": "code",
   "execution_count": 46,
   "id": "7d97dbad",
   "metadata": {},
   "outputs": [
    {
     "data": {
      "text/plain": [
       "50"
      ]
     },
     "execution_count": 46,
     "metadata": {},
     "output_type": "execute_result"
    }
   ],
   "source": [
    "len(full_data['interpretability and analysis of models for nlp'])"
   ]
  },
  {
   "cell_type": "code",
   "execution_count": 47,
   "id": "fce457d4",
   "metadata": {},
   "outputs": [
    {
     "data": {
      "text/plain": [
       "20"
      ]
     },
     "execution_count": 47,
     "metadata": {},
     "output_type": "execute_result"
    }
   ],
   "source": [
    "len(full_data.keys())"
   ]
  },
  {
   "cell_type": "code",
   "execution_count": 48,
   "id": "4ee84c9c",
   "metadata": {},
   "outputs": [
    {
     "data": {
      "text/plain": [
       "dict_keys(['dialogue and interactive systems', 'semantics', 'tagging, chunking, syntax and parsing', 'machine translation and multilinguality', 'information extraction, retrieval and text mining', 'machine learning for nlp', 'nlp applications', 'sentiment analysis, stylistic analysis, and argument mining', 'summarization', 'language grounding to vision, robotics and beyond', 'generation', 'question answering', 'resources and evaluation', 'computational social science, social media and cultural analytics', 'discourse and pragmatics', 'linguistic theories, cognitive modeling and psycholinguistics', 'phonology, morphology and word segmentation', 'speech and multimodality', 'ethics in nlp', 'interpretability and analysis of models for nlp'])"
      ]
     },
     "execution_count": 48,
     "metadata": {},
     "output_type": "execute_result"
    }
   ],
   "source": [
    "full_data.keys()"
   ]
  },
  {
   "cell_type": "code",
   "execution_count": 49,
   "id": "35d06b79",
   "metadata": {},
   "outputs": [],
   "source": [
    "training_data = []\n",
    "validation_data = []\n",
    "test_data = []\n",
    "\n",
    "label_string_to_ID = dict()\n",
    "label_ID_to_string = dict()\n",
    "\n",
    "ID = 0\n",
    "\n",
    "for research_track in full_data.keys():\n",
    "    \n",
    "    label_string_to_ID[research_track] = ID\n",
    "    label_ID_to_string[ID] = research_track\n",
    "    \n",
    "    research_track_papers = full_data[research_track]\n",
    "    \n",
    "    training_demarcation = int(0.8*len(research_track_papers))\n",
    "    validation_demarcation = int(0.9*len(research_track_papers))\n",
    "    \n",
    "    for research_track_paper in research_track_papers[:training_demarcation]:\n",
    "        training_data.append([research_track_paper, research_track])\n",
    "        \n",
    "    for research_track_paper in research_track_papers[training_demarcation: validation_demarcation]:\n",
    "        validation_data.append([research_track_paper, research_track])\n",
    "        \n",
    "    for research_track_paper in research_track_papers[validation_demarcation:]:\n",
    "        test_data.append([research_track_paper, research_track])\n",
    "        \n",
    "    ID = ID + 1"
   ]
  },
  {
   "cell_type": "code",
   "execution_count": 50,
   "id": "3e14c078",
   "metadata": {},
   "outputs": [
    {
     "name": "stdout",
     "output_type": "stream",
     "text": [
      "1386\n",
      "175\n",
      "183\n"
     ]
    }
   ],
   "source": [
    "print(len(training_data))\n",
    "print(len(validation_data))\n",
    "print(len(test_data))"
   ]
  },
  {
   "cell_type": "code",
   "execution_count": 51,
   "id": "8843abdb",
   "metadata": {},
   "outputs": [],
   "source": [
    "random.shuffle(training_data)\n",
    "random.shuffle(validation_data)\n",
    "random.shuffle(test_data)"
   ]
  },
  {
   "cell_type": "code",
   "execution_count": 52,
   "id": "ab29298a",
   "metadata": {},
   "outputs": [],
   "source": [
    "with open(\"training_data.jsonl\", \"w\") as f:\n",
    "    json.dump(training_data, f)\n",
    "    \n",
    "with open(\"validation_data.jsonl\", \"w\") as f:\n",
    "    json.dump(validation_data, f)\n",
    "    \n",
    "with open(\"test_data.jsonl\", \"w\") as f:\n",
    "    json.dump(test_data, f)\n",
    "    \n",
    "with open(\"label_string_to_ID.jsonl\", \"w\") as f:\n",
    "    json.dump(label_string_to_ID, f)\n",
    "    \n",
    "with open(\"label_ID_to_string.jsonl\", \"w\") as f:\n",
    "    json.dump(label_ID_to_string, f)"
   ]
  },
  {
   "cell_type": "code",
   "execution_count": 104,
   "id": "e9ab2caa",
   "metadata": {},
   "outputs": [
    {
     "data": {
      "text/plain": [
       "['beyond bleu:training neural machine translation with semantic similarity',\n",
       " 'john wieting | taylor berg-kirkpatrick | kevin gimpel | graham neubig',\n",
       " 'while most neural machine translation (nmt)systems are still trained using maximum likelihood estimation, recent work has demonstrated that optimizing systems to directly improve evaluation metrics such as bleu can significantly improve final translation accuracy. however, training with bleu has some limitations: it doesn’t assign partial credit, it has a limited range of output values, and it can penalize semantically correct hypotheses if they differ lexically from the reference. in this paper, we introduce an alternative reward function for optimizing nmt systems that is based on recent work in semantic similarity. we evaluate on four disparate languages trans-lated to english, and find that training with our proposed metric results in better translations as evaluated by bleu, semantic similarity, and human evaluation, and also that the optimization procedure converges faster. analysis suggests that this is because the proposed metric is more conducive to optimization, assigning partial credit and providing more diversity in scores than bleu']"
      ]
     },
     "execution_count": 104,
     "metadata": {},
     "output_type": "execute_result"
    }
   ],
   "source": [
    "full_data['machine translation and multilinguality'][3]"
   ]
  },
  {
   "cell_type": "code",
   "execution_count": 101,
   "id": "e1bf1127",
   "metadata": {},
   "outputs": [
    {
     "data": {
      "text/plain": [
       "['ensuring readability and data-fidelity using head-modifier templates in deep type description generation',\n",
       " 'jiangjie chen | ao wang | haiyun jiang | suo feng | chenguang li | yanghua xiao',\n",
       " 'a type description is a succinct noun compound which helps human and machines to quickly grasp the informative and distinctive information of an entity. entities in most knowledge graphs (kgs) still lack such descriptions, thus calling for automatic methods to supplement such information. however, existing generative methods either overlook the grammatical structure or make factual mistakes in generated texts. to solve these problems, we propose a head-modifier template based method to ensure the readability and data fidelity of generated type descriptions. we also propose a new dataset and two metrics for this task. experiments show that our method improves substantially compared with baselines and achieves state-of-the-art performance on both datasets.']"
      ]
     },
     "execution_count": 101,
     "metadata": {},
     "output_type": "execute_result"
    }
   ],
   "source": [
    "full_data['generation'][6]"
   ]
  },
  {
   "cell_type": "code",
   "execution_count": 114,
   "id": "156a2b06",
   "metadata": {},
   "outputs": [
    {
     "data": {
      "text/plain": [
       "['reasoning with multimodal sarcastic tweets via modeling cross-modality contrast and semantic association',\n",
       " 'nan xu | zhixiong zeng | wenji mao',\n",
       " 'sarcasm is a sophisticated linguistic phenomenon to express the opposite of what one really means. with the rapid growth of social media, multimodal sarcastic tweets are widely posted on various social platforms. in multimodal context, sarcasm is no longer a pure linguistic phenomenon, and due to the nature of social media short text, the opposite is more often manifested via cross-modality expressions. thus traditional text-based methods are insufficient to detect multimodal sarcasm. to reason with multimodal sarcastic tweets, in this paper, we propose a novel method for modeling cross-modality contrast in the associated context. our method models both cross-modality contrast and semantic association by constructing the decomposition and relation network (namely d&r net). the decomposition network represents the commonality and discrepancy between image and text, and the relation network models the semantic association in cross-modality context. experimental results on a public dataset demonstrate the effectiveness of our model in multimodal sarcasm detection.']"
      ]
     },
     "execution_count": 114,
     "metadata": {},
     "output_type": "execute_result"
    }
   ],
   "source": [
    "full_data['speech and multimodality'][8]"
   ]
  },
  {
   "cell_type": "code",
   "execution_count": 116,
   "id": "5061ea39",
   "metadata": {},
   "outputs": [
    {
     "data": {
      "text/plain": [
       "['conan - counter narratives through nichesourcing: a multilingual dataset of responses to fight online hate speech',\n",
       " 'yi-ling chung | elizaveta kuzmenko | serra sinem tekiroglu | marco guerini',\n",
       " 'although there is an unprecedented effort to provide adequate responses in terms of laws and policies to hate content on social media platforms, dealing with hatred online is still a tough problem. tackling hate speech in the standard way of content deletion or user suspension may be charged with censorship and overblocking. one alternate strategy, that has received little attention so far by the research community, is to actually oppose hate content with counter-narratives (i.e. informed textual responses). in this paper, we describe the creation of the first large-scale, multilingual, expert-based dataset of hate-speech/counter-narrative pairs. this dataset has been built with the effort of more than 100 operators from three different ngos that applied their training and expertise to the task. together with the collected data we also provide additional annotations about expert demographics, hate and response type, and data augmentation through translation and paraphrasing. finally, we provide initial experiments to assess the quality of our data.']"
      ]
     },
     "execution_count": 116,
     "metadata": {},
     "output_type": "execute_result"
    }
   ],
   "source": [
    "full_data[\"computational social science, social media and cultural analytics\"][0]"
   ]
  },
  {
   "cell_type": "code",
   "execution_count": 128,
   "id": "2a9fd5f2",
   "metadata": {},
   "outputs": [
    {
     "data": {
      "text/plain": [
       "['chid: a large-scale chinese idiom dataset for cloze test',\n",
       " 'chujie zheng | minlie huang | aixin sun',\n",
       " 'cloze-style reading comprehension in chinese is still limited due to the lack of various corpora. in this paper we propose a large-scale chinese cloze test dataset chid, which studies the comprehension of idiom, a unique language phenomenon in chinese. in this corpus, the idioms in a passage are replaced by blank symbols and the correct answer needs to be chosen from well-designed candidate idioms. we carefully study how the design of candidate idioms and the representation of idioms affect the performance of state-of-the-art models. results show that the machine accuracy is substantially worse than that of human, indicating a large space for further research.']"
      ]
     },
     "execution_count": 128,
     "metadata": {},
     "output_type": "execute_result"
    }
   ],
   "source": [
    "full_data[\"resources and evaluation\"][11]"
   ]
  },
  {
   "cell_type": "code",
   "execution_count": null,
   "id": "71d80370",
   "metadata": {},
   "outputs": [],
   "source": [
    "str = \"\"\n",
    "\n",
    "for data in full_data.values():\n",
    "    "
   ]
  }
 ],
 "metadata": {
  "kernelspec": {
   "display_name": "Python [conda env:ML]",
   "language": "python",
   "name": "conda-env-ML-py"
  },
  "language_info": {
   "codemirror_mode": {
    "name": "ipython",
    "version": 3
   },
   "file_extension": ".py",
   "mimetype": "text/x-python",
   "name": "python",
   "nbconvert_exporter": "python",
   "pygments_lexer": "ipython3",
   "version": "3.9.7"
  }
 },
 "nbformat": 4,
 "nbformat_minor": 5
}
