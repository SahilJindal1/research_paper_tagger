{
 "cells": [
  {
   "cell_type": "markdown",
   "id": "7d84329c",
   "metadata": {},
   "source": [
    "### 2021"
   ]
  },
  {
   "cell_type": "code",
   "execution_count": null,
   "id": "a7cb23f5",
   "metadata": {},
   "outputs": [],
   "source": [
    "import pickle\n",
    "import json"
   ]
  },
  {
   "cell_type": "code",
   "execution_count": null,
   "id": "7469dac4",
   "metadata": {},
   "outputs": [],
   "source": [
    "with open(\"2021/Sessions.txt\", 'r', encoding='utf-8') as file:\n",
    "    lines = file.readlines()\n",
    "    lines = [line.rstrip() for line in lines]"
   ]
  },
  {
   "cell_type": "code",
   "execution_count": null,
   "id": "c5a31738",
   "metadata": {},
   "outputs": [],
   "source": [
    "session_lines = []\n",
    "session_line_indices = []\n",
    "\n",
    "for line, i in zip(lines, range(len(lines))):\n",
    "    if line[0:7] == \"Session\":\n",
    "        session_lines.append(line[line.find(':')+2:-2].strip().lower())\n",
    "        session_line_indices.append(i)"
   ]
  },
  {
   "cell_type": "code",
   "execution_count": null,
   "id": "cfc4de75",
   "metadata": {},
   "outputs": [],
   "source": [
    "track_paper_dict = dict()\n",
    "\n",
    "for track in session_lines:\n",
    "    track_paper_dict[track] = []\n",
    "    \n",
    "track_paper_dict.pop('e', None)\n",
    "\n",
    "for i in range(len(session_line_indices)-1):\n",
    "    for line in lines[session_line_indices[i]+1 : session_line_indices[i+1]-1]:\n",
    "        if(any(char.isdigit() for char in line[0:11])):\n",
    "            track_paper_dict[session_lines[i]].append(line[12:].lower())"
   ]
  },
  {
   "cell_type": "code",
   "execution_count": null,
   "id": "6381fb8e",
   "metadata": {},
   "outputs": [],
   "source": [
    "for key in track_paper_dict.keys():\n",
    "    track_paper_dict[key] = list(set(track_paper_dict[key]))"
   ]
  },
  {
   "cell_type": "code",
   "execution_count": null,
   "id": "e1cd889b",
   "metadata": {},
   "outputs": [],
   "source": [
    "with open(\"2021/AllPapersWithAbstracts.txt\", 'r', encoding='utf-8') as file:\n",
    "    all_content = file.read()"
   ]
  },
  {
   "cell_type": "code",
   "execution_count": null,
   "id": "0747c6bb",
   "metadata": {},
   "outputs": [],
   "source": [
    "all_papers = all_content.split(\"pdfbibabs\\n\")"
   ]
  },
  {
   "cell_type": "code",
   "execution_count": null,
   "id": "2805b489",
   "metadata": {
    "scrolled": false
   },
   "outputs": [],
   "source": [
    "all_papers_content = dict()\n",
    "\n",
    "for paper in all_papers:\n",
    "    \n",
    "    content = paper.strip().split(\"\\n\")\n",
    "    \n",
    "    all_papers_content[content[0].lower()] = [content[1].lower(), content[3].lower()]"
   ]
  },
  {
   "cell_type": "code",
   "execution_count": null,
   "id": "bb1a5daf",
   "metadata": {},
   "outputs": [],
   "source": [
    "def find_full_name(paper, listOfAllPapers):\n",
    "    \n",
    "    for p in listOfAllPapers:\n",
    "        if(paper in p):\n",
    "            return p\n",
    "\n",
    "incomplete_complete_name = dict()\n",
    "\n",
    "for track in track_paper_dict.keys():\n",
    "    for paper in track_paper_dict[track]:\n",
    "        \n",
    "        full_name = find_full_name(paper, list(all_papers_content.keys()))\n",
    "        \n",
    "        if(full_name != None):\n",
    "            incomplete_complete_name[paper] = full_name"
   ]
  },
  {
   "cell_type": "code",
   "execution_count": null,
   "id": "aa4f5ed3",
   "metadata": {},
   "outputs": [],
   "source": [
    "track_paper_dict_final = dict()\n",
    "\n",
    "for track in track_paper_dict.keys():\n",
    "    track_paper_dict_final[track] = []\n",
    "\n",
    "for track in track_paper_dict.keys():\n",
    "    for incomplete_name in track_paper_dict[track]:\n",
    "        \n",
    "        if(incomplete_name in incomplete_complete_name.keys()):\n",
    "        \n",
    "            complete_name = incomplete_complete_name[incomplete_name]\n",
    "            track_paper_dict_final[track].append([complete_name, all_papers_content[incomplete_complete_name[incomplete_name]][0], all_papers_content[incomplete_complete_name[incomplete_name]][1] ])"
   ]
  },
  {
   "cell_type": "code",
   "execution_count": null,
   "id": "262067d3",
   "metadata": {},
   "outputs": [],
   "source": [
    "f = open(\"2021/2021.json\", \"w\")\n",
    "json.dump(track_paper_dict_final, f)\n",
    "f.close()"
   ]
  },
  {
   "cell_type": "code",
   "execution_count": null,
   "id": "9e430ff7",
   "metadata": {},
   "outputs": [],
   "source": [
    "t = track_paper_dict_final.values()\n",
    "\n",
    "flat_list = []\n",
    "for sublist in t:\n",
    "    for item in sublist:\n",
    "        flat_list.append(item)\n",
    "\n",
    "len(flat_list)"
   ]
  },
  {
   "cell_type": "markdown",
   "id": "74c368fc",
   "metadata": {},
   "source": [
    "### 2020"
   ]
  },
  {
   "cell_type": "code",
   "execution_count": null,
   "id": "97a27196",
   "metadata": {},
   "outputs": [],
   "source": [
    "with open(\"2020/Sessions.txt\", 'r', encoding='utf-8') as file:\n",
    "    lines = file.readlines()\n",
    "    lines = [line.rstrip() for line in lines]"
   ]
  },
  {
   "cell_type": "code",
   "execution_count": null,
   "id": "9b75a773",
   "metadata": {},
   "outputs": [],
   "source": [
    "session_lines = []\n",
    "session_line_indices = []\n",
    "\n",
    "for line, i in zip(lines, range(len(lines))):\n",
    "    if line[12:19] == \"Session\":\n",
    "        session = line[23:-2].strip().lower()\n",
    "        session = session.strip('-')\n",
    "        session_lines.append(session)\n",
    "        session_line_indices.append(i)"
   ]
  },
  {
   "cell_type": "code",
   "execution_count": null,
   "id": "98671450",
   "metadata": {},
   "outputs": [],
   "source": [
    "track_paper_dict = dict()\n",
    "\n",
    "for track in session_lines:\n",
    "    track_paper_dict[track] = []\n",
    "    \n",
    "track_paper_dict.pop('end', None)\n",
    "\n",
    "for i in range(len(session_line_indices)-1):\n",
    "    for line in lines[session_line_indices[i]+1 : session_line_indices[i+1]-1]:\n",
    "        if(line[1:6] == \"Short\"):\n",
    "            track_paper_dict[session_lines[i]].append(line[8:].lower())\n",
    "        if(line[1:5] == \"Long\"):\n",
    "            track_paper_dict[session_lines[i]].append(line[7:].lower())"
   ]
  },
  {
   "cell_type": "code",
   "execution_count": null,
   "id": "edf8ae6d",
   "metadata": {},
   "outputs": [],
   "source": [
    "for key in track_paper_dict.keys():\n",
    "    track_paper_dict[key] = list(set(track_paper_dict[key]))"
   ]
  },
  {
   "cell_type": "code",
   "execution_count": null,
   "id": "b0a40dad",
   "metadata": {},
   "outputs": [],
   "source": [
    "track_paper_dict"
   ]
  },
  {
   "cell_type": "code",
   "execution_count": null,
   "id": "bcc61680",
   "metadata": {},
   "outputs": [],
   "source": [
    "t = track_paper_dict.values()\n",
    "\n",
    "flat_list = []\n",
    "for sublist in t:\n",
    "    for item in sublist:\n",
    "        flat_list.append(item)\n",
    "        \n",
    "len(flat_list)"
   ]
  },
  {
   "cell_type": "code",
   "execution_count": null,
   "id": "2a36f74c",
   "metadata": {},
   "outputs": [],
   "source": [
    "with open(\"2020/AllPapersWithAbstracts.txt\", 'r', encoding='utf-8') as file:\n",
    "    all_content = file.read()"
   ]
  },
  {
   "cell_type": "code",
   "execution_count": null,
   "id": "38c95cee",
   "metadata": {},
   "outputs": [],
   "source": [
    "all_papers = all_content.split(\"pdfbibabs\\n\")"
   ]
  },
  {
   "cell_type": "code",
   "execution_count": null,
   "id": "05d68164",
   "metadata": {},
   "outputs": [],
   "source": [
    "all_papers_content = dict()\n",
    "\n",
    "for paper in all_papers:\n",
    "    \n",
    "    content = paper.strip().split(\"\\n\")\n",
    "    \n",
    "    all_papers_content[content[0].lower()] = [content[1].lower(), content[3].lower()]"
   ]
  },
  {
   "cell_type": "code",
   "execution_count": null,
   "id": "e45af2d8",
   "metadata": {},
   "outputs": [],
   "source": [
    "def find_full_name(paper, listOfAllPapers):\n",
    "    \n",
    "    for p in listOfAllPapers:\n",
    "        if(paper in p):\n",
    "            return p\n",
    "\n",
    "incomplete_complete_name = dict()\n",
    "\n",
    "for track in track_paper_dict.keys():\n",
    "    for paper in track_paper_dict[track]:\n",
    "        \n",
    "        full_name = find_full_name(paper, list(all_papers_content.keys()))\n",
    "        \n",
    "        if(full_name != None):\n",
    "            incomplete_complete_name[paper] = full_name"
   ]
  },
  {
   "cell_type": "code",
   "execution_count": null,
   "id": "93d40712",
   "metadata": {},
   "outputs": [],
   "source": [
    "track_paper_dict_final = dict()\n",
    "\n",
    "for track in track_paper_dict.keys():\n",
    "    track_paper_dict_final[track] = []\n",
    "\n",
    "for track in track_paper_dict.keys():\n",
    "    for incomplete_name in track_paper_dict[track]:\n",
    "        \n",
    "        if(incomplete_name in incomplete_complete_name.keys()):\n",
    "        \n",
    "            complete_name = incomplete_complete_name[incomplete_name]\n",
    "            track_paper_dict_final[track].append([complete_name, all_papers_content[incomplete_complete_name[incomplete_name]][0], all_papers_content[incomplete_complete_name[incomplete_name]][1] ])"
   ]
  },
  {
   "cell_type": "code",
   "execution_count": null,
   "id": "bcc07f8d",
   "metadata": {},
   "outputs": [],
   "source": [
    "f = open(\"2020/2020.json\", \"w\")\n",
    "json.dump(track_paper_dict_final, f)\n",
    "f.close()"
   ]
  },
  {
   "cell_type": "code",
   "execution_count": null,
   "id": "70f3a615",
   "metadata": {},
   "outputs": [],
   "source": [
    "t = track_paper_dict_final.values()\n",
    "\n",
    "flat_list = []\n",
    "for sublist in t:\n",
    "    for item in sublist:\n",
    "        flat_list.append(item)\n",
    "        \n",
    "len(flat_list)"
   ]
  },
  {
   "cell_type": "code",
   "execution_count": null,
   "id": "95c47a65",
   "metadata": {},
   "outputs": [],
   "source": []
  },
  {
   "cell_type": "markdown",
   "id": "624659db",
   "metadata": {},
   "source": [
    "### 2019"
   ]
  },
  {
   "cell_type": "code",
   "execution_count": null,
   "id": "a5fbf92f",
   "metadata": {},
   "outputs": [],
   "source": [
    "with open(\"2019/Sessions.txt\", 'r', encoding='utf-8') as file:\n",
    "    lines = file.readlines()\n",
    "    lines = [line.rstrip() for line in lines]\n",
    "    \n",
    "with open(\"2019/Posters.txt\", 'r', encoding='utf-8') as file:\n",
    "    lines2 = file.readlines()\n",
    "    lines2 = [line.rstrip() for line in lines2]"
   ]
  },
  {
   "cell_type": "code",
   "execution_count": null,
   "id": "d561bacb",
   "metadata": {},
   "outputs": [],
   "source": [
    "session_lines = []\n",
    "session_line_indices = []\n",
    "\n",
    "session_lines2 = []\n",
    "session_line_indices2 = []\n",
    "\n",
    "for line, i in zip(lines, range(len(lines))):\n",
    "    if line[12:19] == \"Session\":\n",
    "        session = line[23:-2].strip().lower()\n",
    "        session = session.strip('-')\n",
    "        session_lines.append(session)\n",
    "        session_line_indices.append(i)\n",
    "        \n",
    "for line, i in zip(lines2, range(len(lines2))):\n",
    "    if line[0] == \"[\":\n",
    "        session_lines2.append(line[1:-1].lower())\n",
    "        session_line_indices2.append(i)"
   ]
  },
  {
   "cell_type": "code",
   "execution_count": null,
   "id": "65de8313",
   "metadata": {},
   "outputs": [],
   "source": [
    "session_lines"
   ]
  },
  {
   "cell_type": "code",
   "execution_count": null,
   "id": "8e7ddd7e",
   "metadata": {},
   "outputs": [],
   "source": [
    "track_paper_dict = dict()\n",
    "\n",
    "for track in session_lines + session_lines2:\n",
    "    track_paper_dict[track] = []\n",
    "    \n",
    "track_paper_dict.pop('end', None)\n",
    "\n",
    "for i in range(len(session_line_indices)-1):\n",
    "    for line in lines[session_line_indices[i]+1 : session_line_indices[i+1]-1]:\n",
    "        if(any(char.isdigit() for char in line[0:11])):\n",
    "            track_paper_dict[session_lines[i]].append(line[12:].lower())\n",
    "            \n",
    "for i in range(len(session_line_indices2)-1):\n",
    "    for line in lines2[session_line_indices2[i]+1 : session_line_indices2[i+1]-1]:\n",
    "        track_paper_dict[session_lines2[i]].append(line.lower())"
   ]
  },
  {
   "cell_type": "code",
   "execution_count": null,
   "id": "b94b83fe",
   "metadata": {},
   "outputs": [],
   "source": [
    "for key in track_paper_dict.keys():\n",
    "    track_paper_dict[key] = list(set(track_paper_dict[key]))"
   ]
  },
  {
   "cell_type": "code",
   "execution_count": null,
   "id": "925f579f",
   "metadata": {},
   "outputs": [],
   "source": [
    "t = track_paper_dict.values()\n",
    "\n",
    "flat_list = []\n",
    "for sublist in t:\n",
    "    for item in sublist:\n",
    "        flat_list.append(item)\n",
    "        \n",
    "len(flat_list)"
   ]
  },
  {
   "cell_type": "code",
   "execution_count": null,
   "id": "d9fe8ca6",
   "metadata": {},
   "outputs": [],
   "source": [
    "track_paper_dict"
   ]
  },
  {
   "cell_type": "code",
   "execution_count": null,
   "id": "0c7283c0",
   "metadata": {},
   "outputs": [],
   "source": [
    "with open(\"2019/AllPapersWithAbstracts.txt\", 'r', encoding='utf-8') as file:\n",
    "    all_content = file.read()"
   ]
  },
  {
   "cell_type": "code",
   "execution_count": null,
   "id": "d9890a25",
   "metadata": {},
   "outputs": [],
   "source": [
    "all_papers = all_content.split(\"pdfbibabs\\n\")"
   ]
  },
  {
   "cell_type": "code",
   "execution_count": null,
   "id": "d101ed75",
   "metadata": {},
   "outputs": [],
   "source": [
    "all_papers_content = dict()\n",
    "\n",
    "for paper in all_papers:\n",
    "    \n",
    "    content = paper.strip().split(\"\\n\")\n",
    "    \n",
    "    all_papers_content[content[0].lower()] = [content[1].lower(), content[3].lower()]"
   ]
  },
  {
   "cell_type": "code",
   "execution_count": null,
   "id": "3da20dfa",
   "metadata": {},
   "outputs": [],
   "source": [
    "def find_full_name(paper, listOfAllPapers):\n",
    "    \n",
    "    for p in listOfAllPapers:\n",
    "        if(paper in p):\n",
    "            return p\n",
    "\n",
    "incomplete_complete_name = dict()\n",
    "\n",
    "for track in track_paper_dict.keys():\n",
    "    for paper in track_paper_dict[track]:\n",
    "        \n",
    "        full_name = find_full_name(paper, list(all_papers_content.keys()))\n",
    "        \n",
    "        if(full_name != None):\n",
    "            incomplete_complete_name[paper] = full_name"
   ]
  },
  {
   "cell_type": "code",
   "execution_count": null,
   "id": "b86cc564",
   "metadata": {},
   "outputs": [],
   "source": [
    "track_paper_dict_final = dict()\n",
    "\n",
    "for track in track_paper_dict.keys():\n",
    "    track_paper_dict_final[track] = []\n",
    "\n",
    "for track in track_paper_dict.keys():\n",
    "    for incomplete_name in track_paper_dict[track]:\n",
    "        \n",
    "        if(incomplete_name in incomplete_complete_name.keys()):\n",
    "        \n",
    "            complete_name = incomplete_complete_name[incomplete_name]\n",
    "            track_paper_dict_final[track].append([complete_name, all_papers_content[incomplete_complete_name[incomplete_name]][0], all_papers_content[incomplete_complete_name[incomplete_name]][1] ])"
   ]
  },
  {
   "cell_type": "code",
   "execution_count": null,
   "id": "8c525f54",
   "metadata": {
    "scrolled": true
   },
   "outputs": [],
   "source": [
    "track_paper_dict_final.keys()"
   ]
  },
  {
   "cell_type": "code",
   "execution_count": null,
   "id": "ce29375d",
   "metadata": {},
   "outputs": [],
   "source": [
    "track_paper_dict_final[\"sentiment analysis and argument mining\"]"
   ]
  },
  {
   "cell_type": "code",
   "execution_count": null,
   "id": "8b722594",
   "metadata": {},
   "outputs": [],
   "source": [
    "t = track_paper_dict_final.values()\n",
    "\n",
    "flat_list = []\n",
    "for sublist in t:\n",
    "    for item in sublist:\n",
    "        flat_list.append(item)\n",
    "        \n",
    "len(flat_list)"
   ]
  },
  {
   "cell_type": "code",
   "execution_count": null,
   "id": "18443b8f",
   "metadata": {},
   "outputs": [],
   "source": [
    "f = open(\"2019/2019.json\", \"w\")\n",
    "json.dump(track_paper_dict_final, f)\n",
    "f.close()"
   ]
  }
 ],
 "metadata": {
  "kernelspec": {
   "display_name": "Python [conda env:ML]",
   "language": "python",
   "name": "conda-env-ML-py"
  },
  "language_info": {
   "codemirror_mode": {
    "name": "ipython",
    "version": 3
   },
   "file_extension": ".py",
   "mimetype": "text/x-python",
   "name": "python",
   "nbconvert_exporter": "python",
   "pygments_lexer": "ipython3",
   "version": "3.9.7"
  }
 },
 "nbformat": 4,
 "nbformat_minor": 5
}
